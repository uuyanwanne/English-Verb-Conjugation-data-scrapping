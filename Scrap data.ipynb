{
 "cells": [
  {
   "cell_type": "code",
   "execution_count": 60,
   "metadata": {},
   "outputs": [],
   "source": [
    "#Replace \"sample.csv\" file with csv file containing list of verbs in the same format as with the \"sample.csv\" file\n",
    "\n",
    "verblist = \"sample_verb_list.csv\"\n"
   ]
  },
  {
   "cell_type": "code",
   "execution_count": 61,
   "metadata": {},
   "outputs": [],
   "source": [
    "#This is to import the required packages and write the first row in the file containing crapped data\n",
    "\n",
    "import requests\n",
    "from bs4 import BeautifulSoup\n",
    "import csv\n",
    "from csv import writer\n",
    "\n",
    "with open('result.csv', 'w') as dat:\n",
    "    write = csv.writer(dat)\n",
    "    write.writerow(['Verb',\n",
    "                    'Present Indicative','Present Indicative','Present Indicative','Present Indicative','Present Indicative','Present Indicative',\n",
    "                    'Preterite Indicative','Preterite Indicative','Preterite Indicative','Preterite Indicative','Preterite Indicative','Preterite Indicative',\n",
    "                    'Present continuous Indicative','Present continuous Indicative','Present continuous Indicative','Present continuous Indicative','Present continuous Indicative','Present continuous Indicative',\n",
    "                    'Present perfect Indicative','Present perfect Indicative','Present perfect Indicative','Present perfect Indicative','Present perfect Indicative','Present perfect Indicative',\n",
    "                    'Future Indicative','Future Indicative','Future Indicative','Future Indicative','Future Indicative','Future Indicative',\n",
    "                    'Future perfect Indicative','Future perfect Indicative','Future perfect Indicative','Future perfect Indicative','Future perfect Indicative','Future perfect Indicative',\n",
    "                    'Past continous Indicative','Past continous Indicative','Past continous Indicative','Past continous Indicative','Past continous Indicative','Past continous Indicative',\n",
    "                    'Past perfect Indicative','Past perfect Indicative','Past perfect Indicative','Past perfect Indicative','Past perfect Indicative','Past perfect Indicative',\n",
    "                    'Future continuous Indicative','Future continuous Indicative','Future continuous Indicative','Future continuous Indicative','Future continuous Indicative','Future continuous Indicative',\n",
    "                    'Present perfect continuous Indicative','Present perfect continuous Indicative','Present perfect continuous Indicative','Present perfect continuous Indicative','Present perfect continuous Indicative','Present perfect continuous Indicative',\n",
    "                    'Past perfect continuous Indicative','Past perfect continuous Indicative','Past perfect continuous Indicative','Past perfect continuous Indicative','Past perfect continuous Indicative','Past perfect continuous Indicative',\n",
    "                    'Future perfect continuous Indicative','Future perfect continuous Indicative','Future perfect continuous Indicative','Future perfect continuous Indicative','Future perfect continuous Indicative','Future perfect continuous Indicative',\n",
    "                    'Imperative','Imperative','Imperative',\n",
    "                    'Present Participle','Past Participle',\n",
    "                    'Infinitive',\n",
    "                    'Perfect participle'])\n"
   ]
  },
  {
   "cell_type": "code",
   "execution_count": 62,
   "metadata": {},
   "outputs": [],
   "source": [
    "#This is to create a python list \"listofverbs\" containing all verbs to be searched for\n",
    "\n",
    "listofverbs=[]\n",
    "\n",
    "with open(verblist) as list:\n",
    "    for line in list.readlines():\n",
    "        listofverbs.append(line.replace(\"\\n\",\"\"))"
   ]
  },
  {
   "cell_type": "code",
   "execution_count": 63,
   "metadata": {},
   "outputs": [
    {
     "name": "stdout",
     "output_type": "stream",
     "text": [
      "1 of 11 verbs searched\n",
      "2 of 11 verbs searched\n",
      "3 of 11 verbs searched\n",
      "4 of 11 verbs searched\n",
      "5 of 11 verbs searched\n",
      "6 of 11 verbs searched\n",
      "7 of 11 verbs searched\n",
      "8 of 11 verbs searched\n",
      "9 of 11 verbs searched\n",
      "10 of 11 verbs searched\n",
      "11 of 11 verbs searched\n"
     ]
    }
   ],
   "source": [
    "n=len(listofverbs)\n",
    "nthverb=0\n",
    "for verb in listofverbs:\n",
    "    webpage = requests.get('https://conjugator.reverso.net/conjugation-english-verb-{}.html'.format(verb))\n",
    "    webpagecontent = webpage.content\n",
    "    soup = BeautifulSoup(webpagecontent, \"html.parser\")\n",
    "    \n",
    "    list=[verb]\n",
    "    for item in soup.find_all(attrs={'class':'wrap-verbs-listing'}):\n",
    "        for i in item.find_all('li'):\n",
    "            list.append(i.get_text())\n",
    "    \n",
    "    with open('result.csv', 'a') as dat:\n",
    "        write = csv.writer(dat)\n",
    "        write.writerow(list)\n",
    "    \n",
    "    nthverb+=1\n",
    "    \n",
    "    print('{} of {} verbs searched'.format(nthverb, n))"
   ]
  }
 ],
 "metadata": {
  "kernelspec": {
   "display_name": "Python 3",
   "language": "python",
   "name": "python3"
  },
  "language_info": {
   "codemirror_mode": {
    "name": "ipython",
    "version": 3
   },
   "file_extension": ".py",
   "mimetype": "text/x-python",
   "name": "python",
   "nbconvert_exporter": "python",
   "pygments_lexer": "ipython3",
   "version": "3.8.5"
  }
 },
 "nbformat": 4,
 "nbformat_minor": 4
}
